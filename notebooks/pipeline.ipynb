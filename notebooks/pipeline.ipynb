{
 "cells": [
  {
   "cell_type": "code",
   "execution_count": null,
   "metadata": {},
   "outputs": [],
   "source": [
    "from dataprocessing.processors.refined_ingestion import TrackingDataRefinedProcess, TimetableRefinedProcess, BusStopRefinedProcess, LineRefinedProcess\n",
    "from dataprocessing.processors.trust_ingestion import TrustProcessing\n",
    "\n",
    "from pyspark.sql import functions as F, types as T\n",
    "from pyspark.sql.window import Window"
   ]
  },
  {
   "cell_type": "code",
   "execution_count": null,
   "metadata": {},
   "outputs": [],
   "source": [
    "# from dataprocessing.processors.sparketl import ETLSpark\n",
    "\n",
    "# etl_spark = ETLSpark()\n",
    "\n",
    "# neighborhoods = etl_spark.sqlContext.read.option(\"header\", \"true\").csv(\"/data/static_data/neighborhoods/bairros.csv\")"
   ]
  },
  {
   "cell_type": "code",
   "execution_count": null,
   "metadata": {},
   "outputs": [],
   "source": [
    "%%time\n",
    "TrustProcessing(\"2019-05\")()"
   ]
  },
  {
   "cell_type": "code",
   "execution_count": null,
   "metadata": {},
   "outputs": [],
   "source": [
    "%%time\n",
    "#LineRefinedProcess(2019,5,6)()\n",
    "#TimetableRefinedProcess(2019,5,6)()\n",
    "BusStopRefinedProcess(2019,5,6)()\n",
    "#TrackingDataRefinedProcess(2019,5,6)()"
   ]
  },
  {
   "cell_type": "code",
   "execution_count": null,
   "metadata": {},
   "outputs": [],
   "source": [
    "# bus_stops = BusStopRefinedProcess(2019,5,6)\n",
    "# bus_stops.bus_stops().toPandas()"
   ]
  },
  {
   "cell_type": "markdown",
   "metadata": {},
   "source": [
    "## AREA 51"
   ]
  },
  {
   "cell_type": "code",
   "execution_count": null,
   "metadata": {},
   "outputs": [],
   "source": [
    "trd = TrackingDataRefinedProcess(2019,5,2)\n",
    "\n",
    "vehicles = trd.compute_metrics()\n",
    "\n",
    "stop_events = trd.stop_events(vehicles)"
   ]
  },
  {
   "cell_type": "code",
   "execution_count": null,
   "metadata": {},
   "outputs": [],
   "source": [
    "stop_events.filter(\"vehicle = 'BN997'\").sort(F.asc(\"stop_timestamp\")).show(50)"
   ]
  },
  {
   "cell_type": "code",
   "execution_count": null,
   "metadata": {},
   "outputs": [],
   "source": [
    "bus_event_edges = trd.event_edges(vehicles)\n",
    "\n",
    "events = trd.process_events(stop_events, bus_event_edges)"
   ]
  },
  {
   "cell_type": "code",
   "execution_count": null,
   "metadata": {},
   "outputs": [],
   "source": [
    "events.filter(\"vehicle = 'BN997'\").sort(F.asc(\"event_timestamp\")).toPandas().to_csv(\"events.csv\",index=False)"
   ]
  },
  {
   "cell_type": "code",
   "execution_count": null,
   "metadata": {},
   "outputs": [],
   "source": [
    "events.count()"
   ]
  },
  {
   "cell_type": "code",
   "execution_count": null,
   "metadata": {},
   "outputs": [],
   "source": []
  }
 ],
 "metadata": {
  "kernelspec": {
   "display_name": "Python 3",
   "language": "python",
   "name": "python3"
  },
  "language_info": {
   "codemirror_mode": {
    "name": "ipython",
    "version": 3
   },
   "file_extension": ".py",
   "mimetype": "text/x-python",
   "name": "python",
   "nbconvert_exporter": "python",
   "pygments_lexer": "ipython3",
   "version": "3.7.6"
  }
 },
 "nbformat": 4,
 "nbformat_minor": 4
}