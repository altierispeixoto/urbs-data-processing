{
 "cells": [
  {
   "cell_type": "code",
   "execution_count": 44,
   "metadata": {},
   "outputs": [],
   "source": [
    "import geopandas as gpd\n",
    "import pandas as pd\n",
    "from h3 import h3\n",
    "from geomet import wkt\n",
    "import json\n",
    "from ast import literal_eval"
   ]
  },
  {
   "cell_type": "markdown",
   "metadata": {},
   "source": [
    "---"
   ]
  },
  {
   "cell_type": "markdown",
   "metadata": {},
   "source": [
    "### BUS STOPS"
   ]
  },
  {
   "cell_type": "code",
   "execution_count": 20,
   "metadata": {},
   "outputs": [],
   "source": [
    "bus_stops = pd.read_parquet(\"../data/datalake/trusted/busstops\")"
   ]
  },
  {
   "cell_type": "code",
   "execution_count": 21,
   "metadata": {},
   "outputs": [],
   "source": [
    "h3_level = 10\n",
    " \n",
    "def lat_lng_to_h3(row):\n",
    "    return h3.geo_to_h3(\n",
    "      float(row.latitude), float(row.longitude), h3_level)\n",
    " \n",
    "bus_stops['h3'] = bus_stops.apply(lat_lng_to_h3, axis=1)"
   ]
  },
  {
   "cell_type": "code",
   "execution_count": 22,
   "metadata": {},
   "outputs": [
    {
     "data": {
      "text/html": [
       "<div>\n",
       "<style scoped>\n",
       "    .dataframe tbody tr th:only-of-type {\n",
       "        vertical-align: middle;\n",
       "    }\n",
       "\n",
       "    .dataframe tbody tr th {\n",
       "        vertical-align: top;\n",
       "    }\n",
       "\n",
       "    .dataframe thead th {\n",
       "        text-align: right;\n",
       "    }\n",
       "</style>\n",
       "<table border=\"1\" class=\"dataframe\">\n",
       "  <thead>\n",
       "    <tr style=\"text-align: right;\">\n",
       "      <th></th>\n",
       "      <th>itinerary_id</th>\n",
       "      <th>seq</th>\n",
       "      <th>line_code</th>\n",
       "      <th>latitude</th>\n",
       "      <th>longitude</th>\n",
       "      <th>name</th>\n",
       "      <th>number</th>\n",
       "      <th>line_way</th>\n",
       "      <th>type</th>\n",
       "      <th>year</th>\n",
       "      <th>month</th>\n",
       "      <th>day</th>\n",
       "      <th>h3</th>\n",
       "    </tr>\n",
       "  </thead>\n",
       "  <tbody>\n",
       "    <tr>\n",
       "      <th>0</th>\n",
       "      <td>626</td>\n",
       "      <td>3</td>\n",
       "      <td>311</td>\n",
       "      <td>-25.438212585461</td>\n",
       "      <td>-49.217415020767</td>\n",
       "      <td>Rua Prof. Benedito Conceic?o, 770 - Cap?o da I...</td>\n",
       "      <td>130605</td>\n",
       "      <td>Araguaia</td>\n",
       "      <td>Placa em cano</td>\n",
       "      <td>2019</td>\n",
       "      <td>5</td>\n",
       "      <td>1</td>\n",
       "      <td>8aa831346947fff</td>\n",
       "    </tr>\n",
       "    <tr>\n",
       "      <th>1</th>\n",
       "      <td>671</td>\n",
       "      <td>8</td>\n",
       "      <td>378</td>\n",
       "      <td>-25.429452401161</td>\n",
       "      <td>-49.240590215868</td>\n",
       "      <td>Av. Mal. Humberto de Alencar Castelo Branco, 1...</td>\n",
       "      <td>130412</td>\n",
       "      <td>Unimed</td>\n",
       "      <td>Novo mobiliario</td>\n",
       "      <td>2019</td>\n",
       "      <td>5</td>\n",
       "      <td>1</td>\n",
       "      <td>8aa83134425ffff</td>\n",
       "    </tr>\n",
       "    <tr>\n",
       "      <th>2</th>\n",
       "      <td>818</td>\n",
       "      <td>19</td>\n",
       "      <td>622</td>\n",
       "      <td>-25.493613012084</td>\n",
       "      <td>-49.331571663285</td>\n",
       "      <td>Rua Professor Algacir Munhoz Mader, 3825 - Cid...</td>\n",
       "      <td>180299</td>\n",
       "      <td>Rondon</td>\n",
       "      <td>Chapeu chines</td>\n",
       "      <td>2019</td>\n",
       "      <td>5</td>\n",
       "      <td>1</td>\n",
       "      <td>8aa804d94a5ffff</td>\n",
       "    </tr>\n",
       "    <tr>\n",
       "      <th>3</th>\n",
       "      <td>7070</td>\n",
       "      <td>1</td>\n",
       "      <td>021</td>\n",
       "      <td>-25.435991809647</td>\n",
       "      <td>-49.307712311789</td>\n",
       "      <td>Terminal Campina do Siqueira - 021 - Interbair...</td>\n",
       "      <td>104506</td>\n",
       "      <td>Atendimento C.Siqueira - Cabral</td>\n",
       "      <td>Plataforma</td>\n",
       "      <td>2019</td>\n",
       "      <td>5</td>\n",
       "      <td>1</td>\n",
       "      <td>8aa83136d537fff</td>\n",
       "    </tr>\n",
       "    <tr>\n",
       "      <th>4</th>\n",
       "      <td>7010</td>\n",
       "      <td>8</td>\n",
       "      <td>022</td>\n",
       "      <td>-25.471695546865</td>\n",
       "      <td>-49.237493109333</td>\n",
       "      <td>Estac?o Tubo Salgado Filho</td>\n",
       "      <td>109065</td>\n",
       "      <td>Horario</td>\n",
       "      <td>Estac?o tubo</td>\n",
       "      <td>2019</td>\n",
       "      <td>5</td>\n",
       "      <td>1</td>\n",
       "      <td>8aa83136628ffff</td>\n",
       "    </tr>\n",
       "  </tbody>\n",
       "</table>\n",
       "</div>"
      ],
      "text/plain": [
       "  itinerary_id seq line_code          latitude         longitude  \\\n",
       "0          626   3       311  -25.438212585461  -49.217415020767   \n",
       "1          671   8       378  -25.429452401161  -49.240590215868   \n",
       "2          818  19       622  -25.493613012084  -49.331571663285   \n",
       "3         7070   1       021  -25.435991809647  -49.307712311789   \n",
       "4         7010   8       022  -25.471695546865  -49.237493109333   \n",
       "\n",
       "                                                name  number  \\\n",
       "0  Rua Prof. Benedito Conceic?o, 770 - Cap?o da I...  130605   \n",
       "1  Av. Mal. Humberto de Alencar Castelo Branco, 1...  130412   \n",
       "2  Rua Professor Algacir Munhoz Mader, 3825 - Cid...  180299   \n",
       "3  Terminal Campina do Siqueira - 021 - Interbair...  104506   \n",
       "4                         Estac?o Tubo Salgado Filho  109065   \n",
       "\n",
       "                          line_way             type  year month day  \\\n",
       "0                         Araguaia    Placa em cano  2019     5   1   \n",
       "1                           Unimed  Novo mobiliario  2019     5   1   \n",
       "2                           Rondon    Chapeu chines  2019     5   1   \n",
       "3  Atendimento C.Siqueira - Cabral       Plataforma  2019     5   1   \n",
       "4                          Horario     Estac?o tubo  2019     5   1   \n",
       "\n",
       "                h3  \n",
       "0  8aa831346947fff  \n",
       "1  8aa83134425ffff  \n",
       "2  8aa804d94a5ffff  \n",
       "3  8aa83136d537fff  \n",
       "4  8aa83136628ffff  "
      ]
     },
     "execution_count": 22,
     "metadata": {},
     "output_type": "execute_result"
    }
   ],
   "source": [
    "bus_stops.head()"
   ]
  },
  {
   "cell_type": "markdown",
   "metadata": {},
   "source": [
    "### BAIRROS"
   ]
  },
  {
   "cell_type": "code",
   "execution_count": 37,
   "metadata": {},
   "outputs": [],
   "source": [
    "shapefile = '../data/shape_files/DIVISA_DE_BAIRROS.shp'\n",
    "\n",
    "bairros = gpd.read_file(shapefile,crs=\"epsg:29192\")\n",
    "#bairros.crs = \"EPSG:4326\""
   ]
  },
  {
   "cell_type": "code",
   "execution_count": 38,
   "metadata": {},
   "outputs": [
    {
     "data": {
      "text/plain": [
       "<Projected CRS: EPSG:29192>\n",
       "Name: SAD69 / UTM zone 22S\n",
       "Axis Info [cartesian]:\n",
       "- E[east]: Easting (metre)\n",
       "- N[north]: Northing (metre)\n",
       "Area of Use:\n",
       "- name: Brazil - onshore and offshore northern and southern hemispheres between 54°W and 48°W. In remainder of South America - between 54°W and 48°W, southern hemisphere, onshore.\n",
       "- bounds: (-54.0, -35.71, -47.99, 7.04)\n",
       "Coordinate Operation:\n",
       "- name: UTM zone 22S\n",
       "- method: Transverse Mercator\n",
       "Datum: South American Datum 1969\n",
       "- Ellipsoid: GRS 1967 Modified\n",
       "- Prime Meridian: Greenwich"
      ]
     },
     "execution_count": 38,
     "metadata": {},
     "output_type": "execute_result"
    }
   ],
   "source": [
    "bairros.crs"
   ]
  },
  {
   "cell_type": "code",
   "execution_count": 39,
   "metadata": {},
   "outputs": [],
   "source": [
    "bairros = bairros.to_crs(\"EPSG:4326\") "
   ]
  },
  {
   "cell_type": "code",
   "execution_count": 45,
   "metadata": {},
   "outputs": [],
   "source": [
    "bairros = bairros[['CODIGO','NOME','CD_REGIONA','NM_REGIONA','geometry']]\n",
    "\n",
    "#Apply function to create new column\n",
    "bairros[\"geojson\"] = bairros[\"geometry\"].apply(lambda x: json.dumps(wkt.loads(str(x))))"
   ]
  },
  {
   "cell_type": "code",
   "execution_count": 46,
   "metadata": {},
   "outputs": [
    {
     "data": {
      "text/html": [
       "<div>\n",
       "<style scoped>\n",
       "    .dataframe tbody tr th:only-of-type {\n",
       "        vertical-align: middle;\n",
       "    }\n",
       "\n",
       "    .dataframe tbody tr th {\n",
       "        vertical-align: top;\n",
       "    }\n",
       "\n",
       "    .dataframe thead th {\n",
       "        text-align: right;\n",
       "    }\n",
       "</style>\n",
       "<table border=\"1\" class=\"dataframe\">\n",
       "  <thead>\n",
       "    <tr style=\"text-align: right;\">\n",
       "      <th></th>\n",
       "      <th>CODIGO</th>\n",
       "      <th>NOME</th>\n",
       "      <th>CD_REGIONA</th>\n",
       "      <th>NM_REGIONA</th>\n",
       "      <th>geometry</th>\n",
       "      <th>geojson</th>\n",
       "    </tr>\n",
       "  </thead>\n",
       "  <tbody>\n",
       "    <tr>\n",
       "      <th>0</th>\n",
       "      <td>9.0</td>\n",
       "      <td>ÁGUA VERDE</td>\n",
       "      <td>7.0</td>\n",
       "      <td>REGIONAL PORTÃO</td>\n",
       "      <td>POLYGON ((-49.27115 -25.45303, -49.27086 -25.4...</td>\n",
       "      <td>{\"type\": \"Polygon\", \"coordinates\": [[[-49.2711...</td>\n",
       "    </tr>\n",
       "  </tbody>\n",
       "</table>\n",
       "</div>"
      ],
      "text/plain": [
       "   CODIGO        NOME  CD_REGIONA       NM_REGIONA  \\\n",
       "0     9.0  ÁGUA VERDE         7.0  REGIONAL PORTÃO   \n",
       "\n",
       "                                            geometry  \\\n",
       "0  POLYGON ((-49.27115 -25.45303, -49.27086 -25.4...   \n",
       "\n",
       "                                             geojson  \n",
       "0  {\"type\": \"Polygon\", \"coordinates\": [[[-49.2711...  "
      ]
     },
     "execution_count": 46,
     "metadata": {},
     "output_type": "execute_result"
    }
   ],
   "source": [
    "bairros.head(1)"
   ]
  },
  {
   "cell_type": "code",
   "execution_count": 47,
   "metadata": {},
   "outputs": [],
   "source": [
    "bairros['h3'] = bairros[\"geojson\"].apply(lambda x: list(h3.polyfill(literal_eval(x),10,geo_json_conformant=True)))"
   ]
  },
  {
   "cell_type": "code",
   "execution_count": 48,
   "metadata": {},
   "outputs": [
    {
     "data": {
      "text/html": [
       "<div>\n",
       "<style scoped>\n",
       "    .dataframe tbody tr th:only-of-type {\n",
       "        vertical-align: middle;\n",
       "    }\n",
       "\n",
       "    .dataframe tbody tr th {\n",
       "        vertical-align: top;\n",
       "    }\n",
       "\n",
       "    .dataframe thead th {\n",
       "        text-align: right;\n",
       "    }\n",
       "</style>\n",
       "<table border=\"1\" class=\"dataframe\">\n",
       "  <thead>\n",
       "    <tr style=\"text-align: right;\">\n",
       "      <th></th>\n",
       "      <th>CODIGO</th>\n",
       "      <th>NOME</th>\n",
       "      <th>CD_REGIONA</th>\n",
       "      <th>NM_REGIONA</th>\n",
       "      <th>geometry</th>\n",
       "      <th>geojson</th>\n",
       "      <th>h3</th>\n",
       "    </tr>\n",
       "  </thead>\n",
       "  <tbody>\n",
       "    <tr>\n",
       "      <th>0</th>\n",
       "      <td>9.0</td>\n",
       "      <td>ÁGUA VERDE</td>\n",
       "      <td>7.0</td>\n",
       "      <td>REGIONAL PORTÃO</td>\n",
       "      <td>POLYGON ((-49.27115 -25.45303, -49.27086 -25.4...</td>\n",
       "      <td>{\"type\": \"Polygon\", \"coordinates\": [[[-49.2711...</td>\n",
       "      <td>[8aa8313613b7fff, 8aa831361ad7fff, 8aa83136134...</td>\n",
       "    </tr>\n",
       "    <tr>\n",
       "      <th>1</th>\n",
       "      <td>18.0</td>\n",
       "      <td>JARDIM SOCIAL</td>\n",
       "      <td>1.0</td>\n",
       "      <td>REGIONAL MATRIZ</td>\n",
       "      <td>POLYGON ((-49.23 -25.41648, -49.23 -25.4165, -...</td>\n",
       "      <td>{\"type\": \"Polygon\", \"coordinates\": [[[-49.2300...</td>\n",
       "      <td>[8aa831340cc7fff, 8aa83134002ffff, 8aa83134018...</td>\n",
       "    </tr>\n",
       "    <tr>\n",
       "      <th>2</th>\n",
       "      <td>57.0</td>\n",
       "      <td>XAXIM</td>\n",
       "      <td>2.0</td>\n",
       "      <td>REGIONAL BOQUEIRÃO</td>\n",
       "      <td>POLYGON ((-49.26498 -25.48821, -49.26412 -25.4...</td>\n",
       "      <td>{\"type\": \"Polygon\", \"coordinates\": [[[-49.2649...</td>\n",
       "      <td>[8aa831acb4d7fff, 8aa831ac80dffff, 8aa831acac0...</td>\n",
       "    </tr>\n",
       "    <tr>\n",
       "      <th>3</th>\n",
       "      <td>22.0</td>\n",
       "      <td>JARDIM DAS AMÉRICAS</td>\n",
       "      <td>3.0</td>\n",
       "      <td>REGIONAL CAJURU</td>\n",
       "      <td>POLYGON ((-49.22781 -25.47203, -49.22881 -25.4...</td>\n",
       "      <td>{\"type\": \"Polygon\", \"coordinates\": [[[-49.2278...</td>\n",
       "      <td>[8aa83136218ffff, 8aa83136221ffff, 8aa8313666a...</td>\n",
       "    </tr>\n",
       "    <tr>\n",
       "      <th>4</th>\n",
       "      <td>26.0</td>\n",
       "      <td>GUAÍRA</td>\n",
       "      <td>7.0</td>\n",
       "      <td>REGIONAL PORTÃO</td>\n",
       "      <td>POLYGON ((-49.28244 -25.47696, -49.28353 -25.4...</td>\n",
       "      <td>{\"type\": \"Polygon\", \"coordinates\": [[[-49.2824...</td>\n",
       "      <td>[8aa83136579ffff, 8aa831361917fff, 8aa83136572...</td>\n",
       "    </tr>\n",
       "  </tbody>\n",
       "</table>\n",
       "</div>"
      ],
      "text/plain": [
       "   CODIGO                 NOME  CD_REGIONA          NM_REGIONA  \\\n",
       "0     9.0           ÁGUA VERDE         7.0     REGIONAL PORTÃO   \n",
       "1    18.0        JARDIM SOCIAL         1.0     REGIONAL MATRIZ   \n",
       "2    57.0                XAXIM         2.0  REGIONAL BOQUEIRÃO   \n",
       "3    22.0  JARDIM DAS AMÉRICAS         3.0     REGIONAL CAJURU   \n",
       "4    26.0               GUAÍRA         7.0     REGIONAL PORTÃO   \n",
       "\n",
       "                                            geometry  \\\n",
       "0  POLYGON ((-49.27115 -25.45303, -49.27086 -25.4...   \n",
       "1  POLYGON ((-49.23 -25.41648, -49.23 -25.4165, -...   \n",
       "2  POLYGON ((-49.26498 -25.48821, -49.26412 -25.4...   \n",
       "3  POLYGON ((-49.22781 -25.47203, -49.22881 -25.4...   \n",
       "4  POLYGON ((-49.28244 -25.47696, -49.28353 -25.4...   \n",
       "\n",
       "                                             geojson  \\\n",
       "0  {\"type\": \"Polygon\", \"coordinates\": [[[-49.2711...   \n",
       "1  {\"type\": \"Polygon\", \"coordinates\": [[[-49.2300...   \n",
       "2  {\"type\": \"Polygon\", \"coordinates\": [[[-49.2649...   \n",
       "3  {\"type\": \"Polygon\", \"coordinates\": [[[-49.2278...   \n",
       "4  {\"type\": \"Polygon\", \"coordinates\": [[[-49.2824...   \n",
       "\n",
       "                                                  h3  \n",
       "0  [8aa8313613b7fff, 8aa831361ad7fff, 8aa83136134...  \n",
       "1  [8aa831340cc7fff, 8aa83134002ffff, 8aa83134018...  \n",
       "2  [8aa831acb4d7fff, 8aa831ac80dffff, 8aa831acac0...  \n",
       "3  [8aa83136218ffff, 8aa83136221ffff, 8aa8313666a...  \n",
       "4  [8aa83136579ffff, 8aa831361917fff, 8aa83136572...  "
      ]
     },
     "execution_count": 48,
     "metadata": {},
     "output_type": "execute_result"
    }
   ],
   "source": [
    "bairros.head()"
   ]
  },
  {
   "cell_type": "code",
   "execution_count": 49,
   "metadata": {},
   "outputs": [],
   "source": [
    "bairros = bairros[['CODIGO','NOME','CD_REGIONA','NM_REGIONA','h3']].rename(columns={\"CODIGO\": \"code\", \"NOME\":\"name\", \"CD_REGIONA\":\"section_code\",\n",
    "                                                                                    \"NM_REGIONA\":\"section_name\",\"h3\":\"h3_index10\"})\n",
    "bairros.to_csv(\"bairros.csv\", index=False)"
   ]
  }
 ],
 "metadata": {
  "kernelspec": {
   "display_name": "Python 3",
   "language": "python",
   "name": "python3"
  },
  "language_info": {
   "codemirror_mode": {
    "name": "ipython",
    "version": 3
   },
   "file_extension": ".py",
   "mimetype": "text/x-python",
   "name": "python",
   "nbconvert_exporter": "python",
   "pygments_lexer": "ipython3",
   "version": "3.9.20"
  }
 },
 "nbformat": 4,
 "nbformat_minor": 4
}
